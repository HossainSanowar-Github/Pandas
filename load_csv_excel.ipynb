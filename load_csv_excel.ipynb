{
 "cells": [
  {
   "cell_type": "code",
   "execution_count": 1,
   "id": "714adb1f",
   "metadata": {},
   "outputs": [
    {
     "name": "stdout",
     "output_type": "stream",
     "text": [
      "Requirement already satisfied: openpyxl in /opt/homebrew/Caskroom/miniforge/base/envs/tensorflow/lib/python3.9/site-packages (3.0.9)\r\n",
      "Requirement already satisfied: et-xmlfile in /opt/homebrew/Caskroom/miniforge/base/envs/tensorflow/lib/python3.9/site-packages (from openpyxl) (1.1.0)\r\n"
     ]
    }
   ],
   "source": [
    "!pip install openpyxl"
   ]
  },
  {
   "cell_type": "code",
   "execution_count": 2,
   "id": "c4d0a3bc",
   "metadata": {},
   "outputs": [],
   "source": [
    "import pandas as pd\n",
    "import matplotlib.pyplot as plt\n",
    "import openpyxl"
   ]
  },
  {
   "cell_type": "code",
   "execution_count": 3,
   "id": "679ac397",
   "metadata": {},
   "outputs": [],
   "source": [
    "data=pd.read_csv('/Users/mdsanowarhossain/Downloads/Jahresbilanzen_Feinstaub_2012.csv',sep=\";\")"
   ]
  },
  {
   "cell_type": "code",
   "execution_count": 4,
   "id": "b588f702",
   "metadata": {},
   "outputs": [],
   "source": [
    "df=data.copy()"
   ]
  },
  {
   "cell_type": "code",
   "execution_count": 5,
   "id": "cc781de8",
   "metadata": {},
   "outputs": [
    {
     "data": {
      "text/html": [
       "<div>\n",
       "<style scoped>\n",
       "    .dataframe tbody tr th:only-of-type {\n",
       "        vertical-align: middle;\n",
       "    }\n",
       "\n",
       "    .dataframe tbody tr th {\n",
       "        vertical-align: top;\n",
       "    }\n",
       "\n",
       "    .dataframe thead th {\n",
       "        text-align: right;\n",
       "    }\n",
       "</style>\n",
       "<table border=\"1\" class=\"dataframe\">\n",
       "  <thead>\n",
       "    <tr style=\"text-align: right;\">\n",
       "      <th></th>\n",
       "      <th>Bundesland / Messnetz</th>\n",
       "      <th>Stationscode</th>\n",
       "      <th>Stationsname</th>\n",
       "      <th>Stationsumgebung</th>\n",
       "      <th>Art der Station</th>\n",
       "      <th>Jahresmittelwert in µg/m³</th>\n",
       "    </tr>\n",
       "  </thead>\n",
       "  <tbody>\n",
       "    <tr>\n",
       "      <th>0</th>\n",
       "      <td>Brandenburg</td>\n",
       "      <td>DEBB007</td>\n",
       "      <td>Elsterwerda, 1992-2020</td>\n",
       "      <td>vorstädtisches Gebiet</td>\n",
       "      <td>Hintergrund</td>\n",
       "      <td>15.0</td>\n",
       "    </tr>\n",
       "    <tr>\n",
       "      <th>1</th>\n",
       "      <td>Brandenburg</td>\n",
       "      <td>DEBB021</td>\n",
       "      <td>Potsdam-Zentrum</td>\n",
       "      <td>städtisches Gebiet</td>\n",
       "      <td>Hintergrund</td>\n",
       "      <td>14.0</td>\n",
       "    </tr>\n",
       "    <tr>\n",
       "      <th>2</th>\n",
       "      <td>Brandenburg</td>\n",
       "      <td>DEBB053</td>\n",
       "      <td>Hasenholz (Buckow)</td>\n",
       "      <td>ländlich regional</td>\n",
       "      <td>Hintergrund</td>\n",
       "      <td>14.0</td>\n",
       "    </tr>\n",
       "    <tr>\n",
       "      <th>3</th>\n",
       "      <td>Brandenburg</td>\n",
       "      <td>DEBB055</td>\n",
       "      <td>Brandenburg a.d. Havel</td>\n",
       "      <td>vorstädtisches Gebiet</td>\n",
       "      <td>Hintergrund</td>\n",
       "      <td>13.0</td>\n",
       "    </tr>\n",
       "    <tr>\n",
       "      <th>4</th>\n",
       "      <td>Brandenburg</td>\n",
       "      <td>DEBB063</td>\n",
       "      <td>Wittenberge</td>\n",
       "      <td>vorstädtisches Gebiet</td>\n",
       "      <td>Hintergrund</td>\n",
       "      <td>11.0</td>\n",
       "    </tr>\n",
       "  </tbody>\n",
       "</table>\n",
       "</div>"
      ],
      "text/plain": [
       "  Bundesland / Messnetz Stationscode            Stationsname  \\\n",
       "0           Brandenburg      DEBB007  Elsterwerda, 1992-2020   \n",
       "1           Brandenburg      DEBB021         Potsdam-Zentrum   \n",
       "2           Brandenburg      DEBB053      Hasenholz (Buckow)   \n",
       "3           Brandenburg      DEBB055  Brandenburg a.d. Havel   \n",
       "4           Brandenburg      DEBB063             Wittenberge   \n",
       "\n",
       "        Stationsumgebung Art der Station  Jahresmittelwert in µg/m³  \n",
       "0  vorstädtisches Gebiet     Hintergrund                       15.0  \n",
       "1     städtisches Gebiet     Hintergrund                       14.0  \n",
       "2      ländlich regional     Hintergrund                       14.0  \n",
       "3  vorstädtisches Gebiet     Hintergrund                       13.0  \n",
       "4  vorstädtisches Gebiet     Hintergrund                       11.0  "
      ]
     },
     "execution_count": 5,
     "metadata": {},
     "output_type": "execute_result"
    }
   ],
   "source": [
    "# show data\n",
    "df.head()"
   ]
  },
  {
   "cell_type": "code",
   "execution_count": 6,
   "id": "9e6b1236",
   "metadata": {},
   "outputs": [
    {
     "data": {
      "text/plain": [
       "pandas.core.frame.DataFrame"
      ]
     },
     "execution_count": 6,
     "metadata": {},
     "output_type": "execute_result"
    }
   ],
   "source": [
    "type(df)"
   ]
  },
  {
   "cell_type": "code",
   "execution_count": 7,
   "id": "c2201ca6",
   "metadata": {},
   "outputs": [],
   "source": [
    "# save data as excel file\n",
    "df.to_excel('/Users/mdsanowarhossain/Downloads/Jahresbilanzen_Feinstaub_2012.xlsx')"
   ]
  },
  {
   "cell_type": "code",
   "execution_count": null,
   "id": "979b147e",
   "metadata": {},
   "outputs": [],
   "source": []
  }
 ],
 "metadata": {
  "kernelspec": {
   "display_name": "Python 3 (ipykernel)",
   "language": "python",
   "name": "python3"
  },
  "language_info": {
   "codemirror_mode": {
    "name": "ipython",
    "version": 3
   },
   "file_extension": ".py",
   "mimetype": "text/x-python",
   "name": "python",
   "nbconvert_exporter": "python",
   "pygments_lexer": "ipython3",
   "version": "3.9.7"
  }
 },
 "nbformat": 4,
 "nbformat_minor": 5
}
